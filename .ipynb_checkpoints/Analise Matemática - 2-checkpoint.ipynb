{
 "cells": [
  {
   "cell_type": "markdown",
   "metadata": {},
   "source": [
    "<h2 style = \"color:blue\"> Projeto Mega - V4.JF </h2>\n",
    "<h3> Análise propriedades matemáticas dos sorteios</h3>\n",
    "<img src = \"imagens/LogoJoao-2019.png\" alt=\"Nada\" style = \"float:left;width:100px; height:100px\">"
   ]
  },
  {
   "cell_type": "markdown",
   "metadata": {},
   "source": [
    "<h3 style=\"color:green\"> Objetivos desta nova etapa de Análises:</h3>\n",
    "<p> Nesta etapa vou mexer nos dados avaliando com se comporta a coluna de soma quando divido os valores da seguinte forma:\n",
    "    <ol>\n",
    "    <li style=\"color:blue\">Soma dos valores da sequencia máxima possivel </li>\n",
    "    <li style=\"color:blue\">Soma dos valores da sequencia minima possivel </li>\n",
    "    <li style=\"color:blue\">Média dos valores  </li>\n",
    "    <li style=\"color:blue\">Mediana </li>\n",
    "</ol>"
   ]
  },
  {
   "cell_type": "code",
   "execution_count": 2,
   "metadata": {},
   "outputs": [],
   "source": [
    "# imports iniciais \n",
    "import numpy as np\n",
    "import pandas as pd\n",
    "import seaborn as sns\n",
    "from matplotlib import pyplot as plt\n",
    "from datetime import datetime\n",
    "from IPython.core.display import HTML\n",
    "\n",
    "%matplotlib inline"
   ]
  },
  {
   "cell_type": "code",
   "execution_count": null,
   "metadata": {},
   "outputs": [],
   "source": []
  }
 ],
 "metadata": {
  "kernelspec": {
   "display_name": "Python 3",
   "language": "python",
   "name": "python3"
  },
  "language_info": {
   "codemirror_mode": {
    "name": "ipython",
    "version": 3
   },
   "file_extension": ".py",
   "mimetype": "text/x-python",
   "name": "python",
   "nbconvert_exporter": "python",
   "pygments_lexer": "ipython3",
   "version": "3.6.7"
  }
 },
 "nbformat": 4,
 "nbformat_minor": 2
}
