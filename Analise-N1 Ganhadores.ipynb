{
 "cells": [
  {
   "cell_type": "markdown",
   "metadata": {},
   "source": [
    "<h2 style = \"color:blue\"> Projeto Mega - V2.JF </h2>\n",
    "<h3> Análise preliminar dos Ganhadores </h3>\n",
    "<img src = \"imagens/LogoJoao-2019.png\" alt=\"Nada\" style = \"float:left;width:100px; height:70px\">"
   ]
  },
  {
   "cell_type": "code",
   "execution_count": 1,
   "metadata": {},
   "outputs": [],
   "source": [
    "# imports iniciais \n",
    "import numpy as np\n",
    "import pandas as pd\n",
    "import seaborn as sns\n",
    "from matplotlib import pyplot as plt\n",
    "from datetime import datetime\n",
    "from IPython.core.display import HTML\n",
    "\n",
    "%matplotlib inline"
   ]
  },
  {
   "cell_type": "code",
   "execution_count": 2,
   "metadata": {},
   "outputs": [
    {
     "data": {
      "text/html": [
       "<div>\n",
       "<style scoped>\n",
       "    .dataframe tbody tr th:only-of-type {\n",
       "        vertical-align: middle;\n",
       "    }\n",
       "\n",
       "    .dataframe tbody tr th {\n",
       "        vertical-align: top;\n",
       "    }\n",
       "\n",
       "    .dataframe thead th {\n",
       "        text-align: right;\n",
       "    }\n",
       "</style>\n",
       "<table border=\"1\" class=\"dataframe\">\n",
       "  <thead>\n",
       "    <tr style=\"text-align: right;\">\n",
       "      <th></th>\n",
       "      <th>1ª Dezena</th>\n",
       "      <th>2ª Dezena</th>\n",
       "      <th>3ª Dezena</th>\n",
       "      <th>4ª Dezena</th>\n",
       "      <th>5ª Dezena</th>\n",
       "      <th>6ª Dezena</th>\n",
       "      <th>Ganhadores_Sena</th>\n",
       "      <th>Rateio_Sena</th>\n",
       "    </tr>\n",
       "    <tr>\n",
       "      <th>Concurso</th>\n",
       "      <th></th>\n",
       "      <th></th>\n",
       "      <th></th>\n",
       "      <th></th>\n",
       "      <th></th>\n",
       "      <th></th>\n",
       "      <th></th>\n",
       "      <th></th>\n",
       "    </tr>\n",
       "  </thead>\n",
       "  <tbody>\n",
       "    <tr>\n",
       "      <th>2.0</th>\n",
       "      <td>9.0</td>\n",
       "      <td>39.0</td>\n",
       "      <td>37.0</td>\n",
       "      <td>49.0</td>\n",
       "      <td>43.0</td>\n",
       "      <td>41.0</td>\n",
       "      <td>1.0</td>\n",
       "      <td>2307162.23</td>\n",
       "    </tr>\n",
       "    <tr>\n",
       "      <th>3.0</th>\n",
       "      <td>36.0</td>\n",
       "      <td>30.0</td>\n",
       "      <td>10.0</td>\n",
       "      <td>11.0</td>\n",
       "      <td>29.0</td>\n",
       "      <td>47.0</td>\n",
       "      <td>2.0</td>\n",
       "      <td>391192.51</td>\n",
       "    </tr>\n",
       "    <tr>\n",
       "      <th>11.0</th>\n",
       "      <td>25.0</td>\n",
       "      <td>15.0</td>\n",
       "      <td>58.0</td>\n",
       "      <td>37.0</td>\n",
       "      <td>59.0</td>\n",
       "      <td>38.0</td>\n",
       "      <td>1.0</td>\n",
       "      <td>15591365.07</td>\n",
       "    </tr>\n",
       "  </tbody>\n",
       "</table>\n",
       "</div>"
      ],
      "text/plain": [
       "          1ª Dezena  2ª Dezena  3ª Dezena  4ª Dezena  5ª Dezena  6ª Dezena  \\\n",
       "Concurso                                                                     \n",
       "2.0             9.0       39.0       37.0       49.0       43.0       41.0   \n",
       "3.0            36.0       30.0       10.0       11.0       29.0       47.0   \n",
       "11.0           25.0       15.0       58.0       37.0       59.0       38.0   \n",
       "\n",
       "          Ganhadores_Sena  Rateio_Sena  \n",
       "Concurso                                \n",
       "2.0                   1.0   2307162.23  \n",
       "3.0                   2.0    391192.51  \n",
       "11.0                  1.0  15591365.07  "
      ]
     },
     "execution_count": 2,
     "metadata": {},
     "output_type": "execute_result"
    }
   ],
   "source": [
    "# Entrada do Dataset montado no notebook inicial \n",
    "data_path = \"data/somenteGanadores.csv\"\n",
    "df = pd.read_csv(data_path, index_col=\"Concurso\")\n",
    "df.drop(\"Unnamed: 0\", axis=1, inplace=True)\n",
    "df.head(3)"
   ]
  },
  {
   "cell_type": "markdown",
   "metadata": {},
   "source": [
    "<h3 style=\"color:blue\">Descrição da tabela:</h3>\n",
    "    A tabela foi filtrada e removido os valores NaN, esta nova tabela foi salva em um arquivo CSV que foi importada\n",
    "    acima.<br>\n",
    "    <pre>Agora iremos processeguir com as anailises pretendidas neste projeto.</pre>\n",
    "    "
   ]
  },
  {
   "cell_type": "code",
   "execution_count": 3,
   "metadata": {},
   "outputs": [
    {
     "data": {
      "text/plain": [
       "(505, 8)"
      ]
     },
     "execution_count": 3,
     "metadata": {},
     "output_type": "execute_result"
    }
   ],
   "source": [
    "df.shape"
   ]
  },
  {
   "cell_type": "code",
   "execution_count": 4,
   "metadata": {},
   "outputs": [
    {
     "data": {
      "text/html": [
       "<div>\n",
       "<style scoped>\n",
       "    .dataframe tbody tr th:only-of-type {\n",
       "        vertical-align: middle;\n",
       "    }\n",
       "\n",
       "    .dataframe tbody tr th {\n",
       "        vertical-align: top;\n",
       "    }\n",
       "\n",
       "    .dataframe thead th {\n",
       "        text-align: right;\n",
       "    }\n",
       "</style>\n",
       "<table border=\"1\" class=\"dataframe\">\n",
       "  <thead>\n",
       "    <tr style=\"text-align: right;\">\n",
       "      <th></th>\n",
       "      <th>1ª Dezena</th>\n",
       "      <th>2ª Dezena</th>\n",
       "      <th>3ª Dezena</th>\n",
       "      <th>4ª Dezena</th>\n",
       "      <th>5ª Dezena</th>\n",
       "      <th>6ª Dezena</th>\n",
       "    </tr>\n",
       "    <tr>\n",
       "      <th>Concurso</th>\n",
       "      <th></th>\n",
       "      <th></th>\n",
       "      <th></th>\n",
       "      <th></th>\n",
       "      <th></th>\n",
       "      <th></th>\n",
       "    </tr>\n",
       "  </thead>\n",
       "  <tbody>\n",
       "    <tr>\n",
       "      <th>2.0</th>\n",
       "      <td>9.0</td>\n",
       "      <td>39.0</td>\n",
       "      <td>37.0</td>\n",
       "      <td>49.0</td>\n",
       "      <td>43.0</td>\n",
       "      <td>41.0</td>\n",
       "    </tr>\n",
       "    <tr>\n",
       "      <th>3.0</th>\n",
       "      <td>36.0</td>\n",
       "      <td>30.0</td>\n",
       "      <td>10.0</td>\n",
       "      <td>11.0</td>\n",
       "      <td>29.0</td>\n",
       "      <td>47.0</td>\n",
       "    </tr>\n",
       "    <tr>\n",
       "      <th>11.0</th>\n",
       "      <td>25.0</td>\n",
       "      <td>15.0</td>\n",
       "      <td>58.0</td>\n",
       "      <td>37.0</td>\n",
       "      <td>59.0</td>\n",
       "      <td>38.0</td>\n",
       "    </tr>\n",
       "  </tbody>\n",
       "</table>\n",
       "</div>"
      ],
      "text/plain": [
       "          1ª Dezena  2ª Dezena  3ª Dezena  4ª Dezena  5ª Dezena  6ª Dezena\n",
       "Concurso                                                                  \n",
       "2.0             9.0       39.0       37.0       49.0       43.0       41.0\n",
       "3.0            36.0       30.0       10.0       11.0       29.0       47.0\n",
       "11.0           25.0       15.0       58.0       37.0       59.0       38.0"
      ]
     },
     "execution_count": 4,
     "metadata": {},
     "output_type": "execute_result"
    }
   ],
   "source": [
    "df2 = df.iloc[:,[0,1,2,3,4,5]]\n",
    "df2.head(3)"
   ]
  },
  {
   "cell_type": "code",
   "execution_count": 42,
   "metadata": {},
   "outputs": [],
   "source": [
    "df2.to_csv(\"data/dezenasGanhadorasSorteadas.csv\")"
   ]
  },
  {
   "cell_type": "markdown",
   "metadata": {},
   "source": [
    "<p> Neste novo dataframe teremos apenas os valores dos numeros sorteados e que representam os numeros nos \n",
    "quais houveram ganhadores </p>\n"
   ]
  },
  {
   "cell_type": "markdown",
   "metadata": {},
   "source": [
    "<h3 style=\"color:blue\"> Avaliação dos dados do dataframe de ganhadores:</h3>\n",
    "<p> A partir desta limpeza inicial do dataframe, quero fazer algumas descobertas: </p>\n",
    "<ol>\n",
    "    <li style=\"color:green\"> Numero de concursos vencedores até a data da extração do dataframe (Resolvido)</li>\n",
    "    <li style=\"color:green\"> Percentual de concursos vencedores (Resolvido) </li>\n",
    "    <li> Dezenas mais sorteadas </li>\n",
    "    <li> Dezenas menos sorteadas </li>\n",
    "    <li> Dezenas não sorteadas </li>\n",
    "</ol>"
   ]
  },
  {
   "cell_type": "code",
   "execution_count": 5,
   "metadata": {},
   "outputs": [
    {
     "data": {
      "text/plain": [
       "3030"
      ]
     },
     "execution_count": 5,
     "metadata": {},
     "output_type": "execute_result"
    }
   ],
   "source": [
    "df2.size"
   ]
  },
  {
   "cell_type": "code",
   "execution_count": 6,
   "metadata": {},
   "outputs": [],
   "source": [
    "# Aqui fazemos a contagem de frenquencia de cada dezena separadamente. \n",
    "valores1 = pd.value_counts(df2[\"1ª Dezena\"])\n",
    "valores2 = pd.value_counts(df2[\"2ª Dezena\"])\n",
    "valores3 = pd.value_counts(df2[\"3ª Dezena\"])\n",
    "valores4 = pd.value_counts(df2[\"4ª Dezena\"])\n",
    "valores5 = pd.value_counts(df2[\"5ª Dezena\"])\n",
    "valores6 = pd.value_counts(df2[\"6ª Dezena\"])"
   ]
  },
  {
   "cell_type": "code",
   "execution_count": 7,
   "metadata": {},
   "outputs": [
    {
     "data": {
      "text/html": [
       "<div>\n",
       "<style scoped>\n",
       "    .dataframe tbody tr th:only-of-type {\n",
       "        vertical-align: middle;\n",
       "    }\n",
       "\n",
       "    .dataframe tbody tr th {\n",
       "        vertical-align: top;\n",
       "    }\n",
       "\n",
       "    .dataframe thead th {\n",
       "        text-align: right;\n",
       "    }\n",
       "</style>\n",
       "<table border=\"1\" class=\"dataframe\">\n",
       "  <thead>\n",
       "    <tr style=\"text-align: right;\">\n",
       "      <th></th>\n",
       "      <th>1ª Dezena</th>\n",
       "      <th>2ª Dezena</th>\n",
       "      <th>3ª Dezena</th>\n",
       "      <th>4ª Dezena</th>\n",
       "      <th>5ª Dezena</th>\n",
       "      <th>6ª Dezena</th>\n",
       "    </tr>\n",
       "  </thead>\n",
       "  <tbody>\n",
       "    <tr>\n",
       "      <th>1.0</th>\n",
       "      <td>13</td>\n",
       "      <td>10</td>\n",
       "      <td>13</td>\n",
       "      <td>11</td>\n",
       "      <td>10</td>\n",
       "      <td>7</td>\n",
       "    </tr>\n",
       "    <tr>\n",
       "      <th>2.0</th>\n",
       "      <td>12</td>\n",
       "      <td>6</td>\n",
       "      <td>6</td>\n",
       "      <td>4</td>\n",
       "      <td>7</td>\n",
       "      <td>10</td>\n",
       "    </tr>\n",
       "    <tr>\n",
       "      <th>3.0</th>\n",
       "      <td>6</td>\n",
       "      <td>18</td>\n",
       "      <td>11</td>\n",
       "      <td>4</td>\n",
       "      <td>12</td>\n",
       "      <td>13</td>\n",
       "    </tr>\n",
       "    <tr>\n",
       "      <th>4.0</th>\n",
       "      <td>16</td>\n",
       "      <td>5</td>\n",
       "      <td>10</td>\n",
       "      <td>8</td>\n",
       "      <td>14</td>\n",
       "      <td>2</td>\n",
       "    </tr>\n",
       "  </tbody>\n",
       "</table>\n",
       "</div>"
      ],
      "text/plain": [
       "     1ª Dezena  2ª Dezena  3ª Dezena  4ª Dezena  5ª Dezena  6ª Dezena\n",
       "1.0         13         10         13         11         10          7\n",
       "2.0         12          6          6          4          7         10\n",
       "3.0          6         18         11          4         12         13\n",
       "4.0         16          5         10          8         14          2"
      ]
     },
     "execution_count": 7,
     "metadata": {},
     "output_type": "execute_result"
    }
   ],
   "source": [
    "# Aqui crio um dataframe com o numero de ocorrencias de cada dezena sorteada\n",
    "df3 = df2.apply(pd.Series.value_counts)\n",
    "df3.head(4)"
   ]
  },
  {
   "cell_type": "code",
   "execution_count": 41,
   "metadata": {},
   "outputs": [],
   "source": [
    "df3.to_csv(\"data/freqDezenasGanhadores.csv\")"
   ]
  },
  {
   "cell_type": "code",
   "execution_count": 8,
   "metadata": {},
   "outputs": [
    {
     "data": {
      "text/plain": [
       "1ª Dezena    60\n",
       "2ª Dezena    60\n",
       "3ª Dezena    60\n",
       "4ª Dezena    60\n",
       "5ª Dezena    60\n",
       "6ª Dezena    60\n",
       "dtype: int64"
      ]
     },
     "execution_count": 8,
     "metadata": {},
     "output_type": "execute_result"
    }
   ],
   "source": [
    "#Podemos ver que o resultado mostra que em cada dezena os 60 numeros do jogo aparecem \n",
    "df3.count()"
   ]
  },
  {
   "cell_type": "code",
   "execution_count": 9,
   "metadata": {},
   "outputs": [],
   "source": [
    "# para determinar os numeros que mais aparecem nas apostas vencedoras acrescentamos a coluna onde somamos\n",
    "# todos os valores\n",
    "\n",
    "df3[\"Frequencia\"] = df3[list(df3.columns)].sum(axis=1) #criamos uma coluna chamada frenquencia onde \n",
    "#somamos todas as colunas do dataframe df3 linha a linha "
   ]
  },
  {
   "cell_type": "code",
   "execution_count": 10,
   "metadata": {},
   "outputs": [
    {
     "data": {
      "text/html": [
       "<div>\n",
       "<style scoped>\n",
       "    .dataframe tbody tr th:only-of-type {\n",
       "        vertical-align: middle;\n",
       "    }\n",
       "\n",
       "    .dataframe tbody tr th {\n",
       "        vertical-align: top;\n",
       "    }\n",
       "\n",
       "    .dataframe thead th {\n",
       "        text-align: right;\n",
       "    }\n",
       "</style>\n",
       "<table border=\"1\" class=\"dataframe\">\n",
       "  <thead>\n",
       "    <tr style=\"text-align: right;\">\n",
       "      <th></th>\n",
       "      <th>1ª Dezena</th>\n",
       "      <th>2ª Dezena</th>\n",
       "      <th>3ª Dezena</th>\n",
       "      <th>4ª Dezena</th>\n",
       "      <th>5ª Dezena</th>\n",
       "      <th>6ª Dezena</th>\n",
       "      <th>Frequencia</th>\n",
       "    </tr>\n",
       "  </thead>\n",
       "  <tbody>\n",
       "    <tr>\n",
       "      <th>1.0</th>\n",
       "      <td>13</td>\n",
       "      <td>10</td>\n",
       "      <td>13</td>\n",
       "      <td>11</td>\n",
       "      <td>10</td>\n",
       "      <td>7</td>\n",
       "      <td>64</td>\n",
       "    </tr>\n",
       "    <tr>\n",
       "      <th>2.0</th>\n",
       "      <td>12</td>\n",
       "      <td>6</td>\n",
       "      <td>6</td>\n",
       "      <td>4</td>\n",
       "      <td>7</td>\n",
       "      <td>10</td>\n",
       "      <td>45</td>\n",
       "    </tr>\n",
       "    <tr>\n",
       "      <th>3.0</th>\n",
       "      <td>6</td>\n",
       "      <td>18</td>\n",
       "      <td>11</td>\n",
       "      <td>4</td>\n",
       "      <td>12</td>\n",
       "      <td>13</td>\n",
       "      <td>64</td>\n",
       "    </tr>\n",
       "    <tr>\n",
       "      <th>4.0</th>\n",
       "      <td>16</td>\n",
       "      <td>5</td>\n",
       "      <td>10</td>\n",
       "      <td>8</td>\n",
       "      <td>14</td>\n",
       "      <td>2</td>\n",
       "      <td>55</td>\n",
       "    </tr>\n",
       "    <tr>\n",
       "      <th>5.0</th>\n",
       "      <td>15</td>\n",
       "      <td>21</td>\n",
       "      <td>6</td>\n",
       "      <td>15</td>\n",
       "      <td>12</td>\n",
       "      <td>11</td>\n",
       "      <td>80</td>\n",
       "    </tr>\n",
       "  </tbody>\n",
       "</table>\n",
       "</div>"
      ],
      "text/plain": [
       "     1ª Dezena  2ª Dezena  3ª Dezena  4ª Dezena  5ª Dezena  6ª Dezena  \\\n",
       "1.0         13         10         13         11         10          7   \n",
       "2.0         12          6          6          4          7         10   \n",
       "3.0          6         18         11          4         12         13   \n",
       "4.0         16          5         10          8         14          2   \n",
       "5.0         15         21          6         15         12         11   \n",
       "\n",
       "     Frequencia  \n",
       "1.0          64  \n",
       "2.0          45  \n",
       "3.0          64  \n",
       "4.0          55  \n",
       "5.0          80  "
      ]
     },
     "execution_count": 10,
     "metadata": {},
     "output_type": "execute_result"
    }
   ],
   "source": [
    "df3.head(5)"
   ]
  },
  {
   "cell_type": "code",
   "execution_count": 11,
   "metadata": {},
   "outputs": [
    {
     "data": {
      "text/html": [
       "<h3 style= \"color:blue\"> <p> Tabela dos 5 números MAIS sorteados </p> </h3>"
      ],
      "text/plain": [
       "<IPython.core.display.HTML object>"
      ]
     },
     "metadata": {},
     "output_type": "display_data"
    },
    {
     "data": {
      "text/html": [
       "<div>\n",
       "<style scoped>\n",
       "    .dataframe tbody tr th:only-of-type {\n",
       "        vertical-align: middle;\n",
       "    }\n",
       "\n",
       "    .dataframe tbody tr th {\n",
       "        vertical-align: top;\n",
       "    }\n",
       "\n",
       "    .dataframe thead th {\n",
       "        text-align: right;\n",
       "    }\n",
       "</style>\n",
       "<table border=\"1\" class=\"dataframe\">\n",
       "  <thead>\n",
       "    <tr style=\"text-align: right;\">\n",
       "      <th></th>\n",
       "      <th>1ª Dezena</th>\n",
       "      <th>2ª Dezena</th>\n",
       "      <th>3ª Dezena</th>\n",
       "      <th>4ª Dezena</th>\n",
       "      <th>5ª Dezena</th>\n",
       "      <th>6ª Dezena</th>\n",
       "      <th>Frequencia</th>\n",
       "    </tr>\n",
       "  </thead>\n",
       "  <tbody>\n",
       "    <tr>\n",
       "      <th>5.0</th>\n",
       "      <td>15</td>\n",
       "      <td>21</td>\n",
       "      <td>6</td>\n",
       "      <td>15</td>\n",
       "      <td>12</td>\n",
       "      <td>11</td>\n",
       "      <td>80</td>\n",
       "    </tr>\n",
       "    <tr>\n",
       "      <th>10.0</th>\n",
       "      <td>12</td>\n",
       "      <td>13</td>\n",
       "      <td>13</td>\n",
       "      <td>7</td>\n",
       "      <td>17</td>\n",
       "      <td>11</td>\n",
       "      <td>73</td>\n",
       "    </tr>\n",
       "    <tr>\n",
       "      <th>33.0</th>\n",
       "      <td>10</td>\n",
       "      <td>11</td>\n",
       "      <td>11</td>\n",
       "      <td>13</td>\n",
       "      <td>12</td>\n",
       "      <td>10</td>\n",
       "      <td>67</td>\n",
       "    </tr>\n",
       "    <tr>\n",
       "      <th>1.0</th>\n",
       "      <td>13</td>\n",
       "      <td>10</td>\n",
       "      <td>13</td>\n",
       "      <td>11</td>\n",
       "      <td>10</td>\n",
       "      <td>7</td>\n",
       "      <td>64</td>\n",
       "    </tr>\n",
       "    <tr>\n",
       "      <th>3.0</th>\n",
       "      <td>6</td>\n",
       "      <td>18</td>\n",
       "      <td>11</td>\n",
       "      <td>4</td>\n",
       "      <td>12</td>\n",
       "      <td>13</td>\n",
       "      <td>64</td>\n",
       "    </tr>\n",
       "  </tbody>\n",
       "</table>\n",
       "</div>"
      ],
      "text/plain": [
       "      1ª Dezena  2ª Dezena  3ª Dezena  4ª Dezena  5ª Dezena  6ª Dezena  \\\n",
       "5.0          15         21          6         15         12         11   \n",
       "10.0         12         13         13          7         17         11   \n",
       "33.0         10         11         11         13         12         10   \n",
       "1.0          13         10         13         11         10          7   \n",
       "3.0           6         18         11          4         12         13   \n",
       "\n",
       "      Frequencia  \n",
       "5.0           80  \n",
       "10.0          73  \n",
       "33.0          67  \n",
       "1.0           64  \n",
       "3.0           64  "
      ]
     },
     "execution_count": 11,
     "metadata": {},
     "output_type": "execute_result"
    }
   ],
   "source": [
    "#agora vamos ordenar a coluna Frequencia por ordem do maior por menor e teremos os numeros mais sorteados \n",
    "# e os numeros menos sorteados \n",
    "\n",
    "df3_b = df3.sort_values([\"Frequencia\"], ascending=False)\n",
    "display(HTML ('<h3 style= \"color:blue\"> <p> Tabela dos 5 números MAIS sorteados </p> </h3>'))\n",
    "df3_b.head(5)"
   ]
  },
  {
   "cell_type": "code",
   "execution_count": 12,
   "metadata": {},
   "outputs": [
    {
     "data": {
      "text/html": [
       "<h3 style= \"color:blue\"> <p> Tabela dos 5 números MENOS sorteados </p> </h3>"
      ],
      "text/plain": [
       "<IPython.core.display.HTML object>"
      ]
     },
     "metadata": {},
     "output_type": "display_data"
    },
    {
     "data": {
      "text/html": [
       "<div>\n",
       "<style scoped>\n",
       "    .dataframe tbody tr th:only-of-type {\n",
       "        vertical-align: middle;\n",
       "    }\n",
       "\n",
       "    .dataframe tbody tr th {\n",
       "        vertical-align: top;\n",
       "    }\n",
       "\n",
       "    .dataframe thead th {\n",
       "        text-align: right;\n",
       "    }\n",
       "</style>\n",
       "<table border=\"1\" class=\"dataframe\">\n",
       "  <thead>\n",
       "    <tr style=\"text-align: right;\">\n",
       "      <th></th>\n",
       "      <th>1ª Dezena</th>\n",
       "      <th>2ª Dezena</th>\n",
       "      <th>3ª Dezena</th>\n",
       "      <th>4ª Dezena</th>\n",
       "      <th>5ª Dezena</th>\n",
       "      <th>6ª Dezena</th>\n",
       "      <th>Frequencia</th>\n",
       "    </tr>\n",
       "  </thead>\n",
       "  <tbody>\n",
       "    <tr>\n",
       "      <th>56.0</th>\n",
       "      <td>11</td>\n",
       "      <td>11</td>\n",
       "      <td>6</td>\n",
       "      <td>9</td>\n",
       "      <td>7</td>\n",
       "      <td>9</td>\n",
       "      <td>53</td>\n",
       "    </tr>\n",
       "    <tr>\n",
       "      <th>57.0</th>\n",
       "      <td>7</td>\n",
       "      <td>6</td>\n",
       "      <td>8</td>\n",
       "      <td>7</td>\n",
       "      <td>9</td>\n",
       "      <td>9</td>\n",
       "      <td>46</td>\n",
       "    </tr>\n",
       "    <tr>\n",
       "      <th>58.0</th>\n",
       "      <td>5</td>\n",
       "      <td>8</td>\n",
       "      <td>14</td>\n",
       "      <td>8</td>\n",
       "      <td>6</td>\n",
       "      <td>5</td>\n",
       "      <td>46</td>\n",
       "    </tr>\n",
       "    <tr>\n",
       "      <th>59.0</th>\n",
       "      <td>8</td>\n",
       "      <td>4</td>\n",
       "      <td>12</td>\n",
       "      <td>8</td>\n",
       "      <td>5</td>\n",
       "      <td>7</td>\n",
       "      <td>44</td>\n",
       "    </tr>\n",
       "    <tr>\n",
       "      <th>60.0</th>\n",
       "      <td>4</td>\n",
       "      <td>2</td>\n",
       "      <td>4</td>\n",
       "      <td>4</td>\n",
       "      <td>6</td>\n",
       "      <td>7</td>\n",
       "      <td>27</td>\n",
       "    </tr>\n",
       "  </tbody>\n",
       "</table>\n",
       "</div>"
      ],
      "text/plain": [
       "      1ª Dezena  2ª Dezena  3ª Dezena  4ª Dezena  5ª Dezena  6ª Dezena  \\\n",
       "56.0         11         11          6          9          7          9   \n",
       "57.0          7          6          8          7          9          9   \n",
       "58.0          5          8         14          8          6          5   \n",
       "59.0          8          4         12          8          5          7   \n",
       "60.0          4          2          4          4          6          7   \n",
       "\n",
       "      Frequencia  \n",
       "56.0          53  \n",
       "57.0          46  \n",
       "58.0          46  \n",
       "59.0          44  \n",
       "60.0          27  "
      ]
     },
     "execution_count": 12,
     "metadata": {},
     "output_type": "execute_result"
    }
   ],
   "source": [
    "display(HTML ('<h3 style= \"color:blue\"> <p> Tabela dos 5 números MENOS sorteados </p> </h3>'))\n",
    "df3.tail(5)"
   ]
  },
  {
   "cell_type": "markdown",
   "metadata": {},
   "source": [
    "<h2 style=\"Color:red\"> Conclusão:</h2>\n",
    "    <p> Nesta nova etapa dos trabalhos podemos concluir que a dezena mais sorteada foi o <b>Número 5 com 80 ocorrrencias</b> e o menos sorteado foi o <b>Número 60 com 27 ocorrencias</b>.\n",
    "    Lembramos que estes dados provem da tabela de jogos da Caixa que representa os sorteios onde houveram vencedores e não corresponde ao total dos sorteios. Em outra etapa fareio levantamento de todos os sorteios retirando apenas os dados missing NaN. </p>"
   ]
  },
  {
   "cell_type": "code",
   "execution_count": 18,
   "metadata": {},
   "outputs": [
    {
     "data": {
      "text/html": [
       "<div>\n",
       "<style scoped>\n",
       "    .dataframe tbody tr th:only-of-type {\n",
       "        vertical-align: middle;\n",
       "    }\n",
       "\n",
       "    .dataframe tbody tr th {\n",
       "        vertical-align: top;\n",
       "    }\n",
       "\n",
       "    .dataframe thead th {\n",
       "        text-align: right;\n",
       "    }\n",
       "</style>\n",
       "<table border=\"1\" class=\"dataframe\">\n",
       "  <thead>\n",
       "    <tr style=\"text-align: right;\">\n",
       "      <th></th>\n",
       "      <th>1ª Dezena</th>\n",
       "      <th>2ª Dezena</th>\n",
       "      <th>3ª Dezena</th>\n",
       "      <th>4ª Dezena</th>\n",
       "      <th>5ª Dezena</th>\n",
       "      <th>6ª Dezena</th>\n",
       "      <th>Frequencia</th>\n",
       "    </tr>\n",
       "  </thead>\n",
       "  <tbody>\n",
       "    <tr>\n",
       "      <th>1.0</th>\n",
       "      <td>13</td>\n",
       "      <td>10</td>\n",
       "      <td>13</td>\n",
       "      <td>11</td>\n",
       "      <td>10</td>\n",
       "      <td>7</td>\n",
       "      <td>64</td>\n",
       "    </tr>\n",
       "    <tr>\n",
       "      <th>2.0</th>\n",
       "      <td>12</td>\n",
       "      <td>6</td>\n",
       "      <td>6</td>\n",
       "      <td>4</td>\n",
       "      <td>7</td>\n",
       "      <td>10</td>\n",
       "      <td>45</td>\n",
       "    </tr>\n",
       "    <tr>\n",
       "      <th>3.0</th>\n",
       "      <td>6</td>\n",
       "      <td>18</td>\n",
       "      <td>11</td>\n",
       "      <td>4</td>\n",
       "      <td>12</td>\n",
       "      <td>13</td>\n",
       "      <td>64</td>\n",
       "    </tr>\n",
       "    <tr>\n",
       "      <th>4.0</th>\n",
       "      <td>16</td>\n",
       "      <td>5</td>\n",
       "      <td>10</td>\n",
       "      <td>8</td>\n",
       "      <td>14</td>\n",
       "      <td>2</td>\n",
       "      <td>55</td>\n",
       "    </tr>\n",
       "    <tr>\n",
       "      <th>5.0</th>\n",
       "      <td>15</td>\n",
       "      <td>21</td>\n",
       "      <td>6</td>\n",
       "      <td>15</td>\n",
       "      <td>12</td>\n",
       "      <td>11</td>\n",
       "      <td>80</td>\n",
       "    </tr>\n",
       "  </tbody>\n",
       "</table>\n",
       "</div>"
      ],
      "text/plain": [
       "     1ª Dezena  2ª Dezena  3ª Dezena  4ª Dezena  5ª Dezena  6ª Dezena  \\\n",
       "1.0         13         10         13         11         10          7   \n",
       "2.0         12          6          6          4          7         10   \n",
       "3.0          6         18         11          4         12         13   \n",
       "4.0         16          5         10          8         14          2   \n",
       "5.0         15         21          6         15         12         11   \n",
       "\n",
       "     Frequencia  \n",
       "1.0          64  \n",
       "2.0          45  \n",
       "3.0          64  \n",
       "4.0          55  \n",
       "5.0          80  "
      ]
     },
     "execution_count": 18,
     "metadata": {},
     "output_type": "execute_result"
    }
   ],
   "source": [
    "df3.head(5)"
   ]
  },
  {
   "cell_type": "code",
   "execution_count": 35,
   "metadata": {},
   "outputs": [],
   "source": [
    "#Gerando eixo x com os numeros de 1 a 60 que correspondem as dezenas sorteadas\n",
    "num = []\n",
    "for i in range(1,61,1):\n",
    "    num.append(i)\n"
   ]
  },
  {
   "cell_type": "code",
   "execution_count": 40,
   "metadata": {},
   "outputs": [
    {
     "data": {
      "image/png": "[encoded data removed]",
      "text/plain": [
       "<Figure size 1440x1080 with 1 Axes>"
      ]
     },
     "metadata": {
      "needs_background": "light"
     },
     "output_type": "display_data"
    }
   ],
   "source": [
    "#hitogramda dos dados de sorteio vencedores\n",
    "fig, ax = plt.subplots(figsize=(20,15))\n",
    "\n",
    "sns.barplot(x = num, y = \"Frequencia\", palette=\"rocket\", data=df3)\n",
    "ax.set_title('Sorteios Vencedores MegaSenna', fontsize=25)\n",
    "ax.yaxis.set_label_text('Dezenas Possiveis de sorteio', fontdict={'size':16})\n",
    "plt.show()"
   ]
  },
  {
   "cell_type": "code",
   "execution_count": 43,
   "metadata": {},
   "outputs": [],
   "source": [
    "fig.savefig('imagens/maisSorteados.png')"
   ]
  },
  {
   "cell_type": "code",
   "execution_count": null,
   "metadata": {},
   "outputs": [],
   "source": []
  }
 ],
 "metadata": {
  "kernelspec": {
   "display_name": "Python 3",
   "language": "python",
   "name": "python3"
  },
  "language_info": {
   "codemirror_mode": {
    "name": "ipython",
    "version": 3
   },
   "file_extension": ".py",
   "mimetype": "text/x-python",
   "name": "python",
   "nbconvert_exporter": "python",
   "pygments_lexer": "ipython3",
   "version": "3.6.7"
  }
 },
 "nbformat": 4,
 "nbformat_minor": 2
}
